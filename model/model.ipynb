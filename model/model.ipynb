{
 "cells": [
  {
   "attachments": {},
   "cell_type": "markdown",
   "metadata": {},
   "source": [
    "# Some preparing"
   ]
  },
  {
   "cell_type": "code",
   "execution_count": 7,
   "metadata": {},
   "outputs": [],
   "source": [
    "import pandas as pd\n",
    "import numpy as np"
   ]
  },
  {
   "cell_type": "code",
   "execution_count": 3,
   "metadata": {},
   "outputs": [],
   "source": [
    "df = pd.read_csv('./jobs.csv')"
   ]
  },
  {
   "cell_type": "code",
   "execution_count": 10,
   "metadata": {},
   "outputs": [
    {
     "data": {
      "text/html": [
       "<div>\n",
       "<style scoped>\n",
       "    .dataframe tbody tr th:only-of-type {\n",
       "        vertical-align: middle;\n",
       "    }\n",
       "\n",
       "    .dataframe tbody tr th {\n",
       "        vertical-align: top;\n",
       "    }\n",
       "\n",
       "    .dataframe thead th {\n",
       "        text-align: right;\n",
       "    }\n",
       "</style>\n",
       "<table border=\"1\" class=\"dataframe\">\n",
       "  <thead>\n",
       "    <tr style=\"text-align: right;\">\n",
       "      <th></th>\n",
       "      <th>title</th>\n",
       "      <th>money</th>\n",
       "      <th>knoladge</th>\n",
       "      <th>company</th>\n",
       "      <th>addition</th>\n",
       "      <th>city</th>\n",
       "      <th>link</th>\n",
       "    </tr>\n",
       "  </thead>\n",
       "  <tbody>\n",
       "    <tr>\n",
       "      <th>0</th>\n",
       "      <td>Python разработчик (Middle)</td>\n",
       "      <td>200.0</td>\n",
       "      <td>AIOHTTP STARLETTE FASTAPI FASTAPI PYTHON LINUX...</td>\n",
       "      <td>Технопарк «Сколково»</td>\n",
       "      <td>['Удаленная работа']</td>\n",
       "      <td>Москва</td>\n",
       "      <td>https://russia.superjob.ru/vacancy/search/?key...</td>\n",
       "    </tr>\n",
       "    <tr>\n",
       "      <th>1</th>\n",
       "      <td>Python-разработчик с функционалом data-аналитика</td>\n",
       "      <td>NaN</td>\n",
       "      <td>PYTHON DJANGO</td>\n",
       "      <td>Friendwork</td>\n",
       "      <td>NaN</td>\n",
       "      <td>Москва</td>\n",
       "      <td>https://russia.superjob.ru/vacancy/search/?key...</td>\n",
       "    </tr>\n",
       "    <tr>\n",
       "      <th>2</th>\n",
       "      <td>Разработчик Python</td>\n",
       "      <td>180.0</td>\n",
       "      <td>PYTHON DRF FASTAPI CELERY</td>\n",
       "      <td>Ботобот</td>\n",
       "      <td>['Удаленная работа']</td>\n",
       "      <td>Москва</td>\n",
       "      <td>https://russia.superjob.ru/vacancy/search/?key...</td>\n",
       "    </tr>\n",
       "    <tr>\n",
       "      <th>3</th>\n",
       "      <td>Программист Python</td>\n",
       "      <td>NaN</td>\n",
       "      <td>LINUX CENTOS OPENSUSE</td>\n",
       "      <td>ФГБУ \"Научно-исследовательский центр космическ...</td>\n",
       "      <td>['Доступно студентам']</td>\n",
       "      <td>Москва</td>\n",
       "      <td>https://russia.superjob.ru/vacancy/search/?key...</td>\n",
       "    </tr>\n",
       "    <tr>\n",
       "      <th>4</th>\n",
       "      <td>Педагог дополнительного образования (программи...</td>\n",
       "      <td>18.0</td>\n",
       "      <td>NaN</td>\n",
       "      <td>ТЕХНОШКОЛА</td>\n",
       "      <td>['Доступно студентам']</td>\n",
       "      <td>Домодедово</td>\n",
       "      <td>https://russia.superjob.ru/vacancy/search/?key...</td>\n",
       "    </tr>\n",
       "  </tbody>\n",
       "</table>\n",
       "</div>"
      ],
      "text/plain": [
       "                                               title  money  \\\n",
       "0                        Python разработчик (Middle)  200.0   \n",
       "1   Python-разработчик с функционалом data-аналитика    NaN   \n",
       "2                                 Разработчик Python  180.0   \n",
       "3                                 Программист Python    NaN   \n",
       "4  Педагог дополнительного образования (программи...   18.0   \n",
       "\n",
       "                                            knoladge  \\\n",
       "0  AIOHTTP STARLETTE FASTAPI FASTAPI PYTHON LINUX...   \n",
       "1                                      PYTHON DJANGO   \n",
       "2                          PYTHON DRF FASTAPI CELERY   \n",
       "3                              LINUX CENTOS OPENSUSE   \n",
       "4                                                NaN   \n",
       "\n",
       "                                             company                addition  \\\n",
       "0                               Технопарк «Сколково»    ['Удаленная работа']   \n",
       "1                                         Friendwork                     NaN   \n",
       "2                                            Ботобот    ['Удаленная работа']   \n",
       "3  ФГБУ \"Научно-исследовательский центр космическ...  ['Доступно студентам']   \n",
       "4                                         ТЕХНОШКОЛА  ['Доступно студентам']   \n",
       "\n",
       "         city                                               link  \n",
       "0      Москва  https://russia.superjob.ru/vacancy/search/?key...  \n",
       "1      Москва  https://russia.superjob.ru/vacancy/search/?key...  \n",
       "2      Москва  https://russia.superjob.ru/vacancy/search/?key...  \n",
       "3      Москва  https://russia.superjob.ru/vacancy/search/?key...  \n",
       "4  Домодедово  https://russia.superjob.ru/vacancy/search/?key...  "
      ]
     },
     "execution_count": 10,
     "metadata": {},
     "output_type": "execute_result"
    }
   ],
   "source": [
    "df.head()"
   ]
  },
  {
   "cell_type": "code",
   "execution_count": 8,
   "metadata": {},
   "outputs": [
    {
     "data": {
      "text/plain": [
       "(84, 141)"
      ]
     },
     "execution_count": 8,
     "metadata": {},
     "output_type": "execute_result"
    }
   ],
   "source": [
    "len(df[df.money > 0]), len(df)"
   ]
  },
  {
   "cell_type": "code",
   "execution_count": 17,
   "metadata": {},
   "outputs": [
    {
     "name": "stdout",
     "output_type": "stream",
     "text": [
      "companies count: (77,)\n",
      "city count: (26,)\n"
     ]
    }
   ],
   "source": [
    "print ('companies count:', df.company.unique().shape) # it is too much\n",
    "print ('city count:', df.city.unique().shape) # it is perfect"
   ]
  },
  {
   "cell_type": "code",
   "execution_count": 20,
   "metadata": {},
   "outputs": [
    {
     "data": {
      "text/plain": [
       "title        0\n",
       "money        0\n",
       "knoladge     5\n",
       "company      2\n",
       "addition    47\n",
       "city         0\n",
       "link         0\n",
       "dtype: int64"
      ]
     },
     "execution_count": 20,
     "metadata": {},
     "output_type": "execute_result"
    }
   ],
   "source": [
    "df[df.money > 0].isnull().sum()"
   ]
  },
  {
   "attachments": {},
   "cell_type": "markdown",
   "metadata": {},
   "source": [
    "# Work begins here"
   ]
  },
  {
   "cell_type": "code",
   "execution_count": 27,
   "metadata": {},
   "outputs": [],
   "source": [
    "for_work = df.drop(['company', 'link', 'title'], axis=1)"
   ]
  },
  {
   "cell_type": "code",
   "execution_count": 28,
   "metadata": {},
   "outputs": [
    {
     "data": {
      "text/html": [
       "<div>\n",
       "<style scoped>\n",
       "    .dataframe tbody tr th:only-of-type {\n",
       "        vertical-align: middle;\n",
       "    }\n",
       "\n",
       "    .dataframe tbody tr th {\n",
       "        vertical-align: top;\n",
       "    }\n",
       "\n",
       "    .dataframe thead th {\n",
       "        text-align: right;\n",
       "    }\n",
       "</style>\n",
       "<table border=\"1\" class=\"dataframe\">\n",
       "  <thead>\n",
       "    <tr style=\"text-align: right;\">\n",
       "      <th></th>\n",
       "      <th>money</th>\n",
       "      <th>knoladge</th>\n",
       "      <th>addition</th>\n",
       "      <th>city</th>\n",
       "    </tr>\n",
       "  </thead>\n",
       "  <tbody>\n",
       "    <tr>\n",
       "      <th>0</th>\n",
       "      <td>200.0</td>\n",
       "      <td>AIOHTTP STARLETTE FASTAPI FASTAPI PYTHON LINUX...</td>\n",
       "      <td>['Удаленная работа']</td>\n",
       "      <td>Москва</td>\n",
       "    </tr>\n",
       "    <tr>\n",
       "      <th>1</th>\n",
       "      <td>NaN</td>\n",
       "      <td>PYTHON DJANGO</td>\n",
       "      <td>NaN</td>\n",
       "      <td>Москва</td>\n",
       "    </tr>\n",
       "    <tr>\n",
       "      <th>2</th>\n",
       "      <td>180.0</td>\n",
       "      <td>PYTHON DRF FASTAPI CELERY</td>\n",
       "      <td>['Удаленная работа']</td>\n",
       "      <td>Москва</td>\n",
       "    </tr>\n",
       "    <tr>\n",
       "      <th>3</th>\n",
       "      <td>NaN</td>\n",
       "      <td>LINUX CENTOS OPENSUSE</td>\n",
       "      <td>['Доступно студентам']</td>\n",
       "      <td>Москва</td>\n",
       "    </tr>\n",
       "    <tr>\n",
       "      <th>4</th>\n",
       "      <td>18.0</td>\n",
       "      <td>NaN</td>\n",
       "      <td>['Доступно студентам']</td>\n",
       "      <td>Домодедово</td>\n",
       "    </tr>\n",
       "    <tr>\n",
       "      <th>...</th>\n",
       "      <td>...</td>\n",
       "      <td>...</td>\n",
       "      <td>...</td>\n",
       "      <td>...</td>\n",
       "    </tr>\n",
       "    <tr>\n",
       "      <th>136</th>\n",
       "      <td>NaN</td>\n",
       "      <td>NET HTML JAVASCRIPT ASP NET</td>\n",
       "      <td>['Удаленная работа']</td>\n",
       "      <td>Москва</td>\n",
       "    </tr>\n",
       "    <tr>\n",
       "      <th>137</th>\n",
       "      <td>NaN</td>\n",
       "      <td>GEMS DEVELOPMENT NPM YARN NUGET JAVASCRIPT ANG...</td>\n",
       "      <td>NaN</td>\n",
       "      <td>Омск</td>\n",
       "    </tr>\n",
       "    <tr>\n",
       "      <th>138</th>\n",
       "      <td>NaN</td>\n",
       "      <td>ANGULAR JS TYPESCRIPT POSTGRESQL SEQUELIZE EXP...</td>\n",
       "      <td>['Удаленная работа']</td>\n",
       "      <td>Москва</td>\n",
       "    </tr>\n",
       "    <tr>\n",
       "      <th>139</th>\n",
       "      <td>40.0</td>\n",
       "      <td>WINDOWS SERVER CENTOS POSTRESQL NODE JS NGINX ...</td>\n",
       "      <td>NaN</td>\n",
       "      <td>Сыктывкар</td>\n",
       "    </tr>\n",
       "    <tr>\n",
       "      <th>140</th>\n",
       "      <td>55.0</td>\n",
       "      <td>WINDOWS SERVER CENTOS POSTRESQL NODE JS NGINX ...</td>\n",
       "      <td>NaN</td>\n",
       "      <td>Сыктывкар</td>\n",
       "    </tr>\n",
       "  </tbody>\n",
       "</table>\n",
       "<p>141 rows × 4 columns</p>\n",
       "</div>"
      ],
      "text/plain": [
       "     money                                           knoladge  \\\n",
       "0    200.0  AIOHTTP STARLETTE FASTAPI FASTAPI PYTHON LINUX...   \n",
       "1      NaN                                      PYTHON DJANGO   \n",
       "2    180.0                          PYTHON DRF FASTAPI CELERY   \n",
       "3      NaN                              LINUX CENTOS OPENSUSE   \n",
       "4     18.0                                                NaN   \n",
       "..     ...                                                ...   \n",
       "136    NaN                        NET HTML JAVASCRIPT ASP NET   \n",
       "137    NaN  GEMS DEVELOPMENT NPM YARN NUGET JAVASCRIPT ANG...   \n",
       "138    NaN  ANGULAR JS TYPESCRIPT POSTGRESQL SEQUELIZE EXP...   \n",
       "139   40.0  WINDOWS SERVER CENTOS POSTRESQL NODE JS NGINX ...   \n",
       "140   55.0  WINDOWS SERVER CENTOS POSTRESQL NODE JS NGINX ...   \n",
       "\n",
       "                   addition        city  \n",
       "0      ['Удаленная работа']      Москва  \n",
       "1                       NaN      Москва  \n",
       "2      ['Удаленная работа']      Москва  \n",
       "3    ['Доступно студентам']      Москва  \n",
       "4    ['Доступно студентам']  Домодедово  \n",
       "..                      ...         ...  \n",
       "136    ['Удаленная работа']      Москва  \n",
       "137                     NaN        Омск  \n",
       "138    ['Удаленная работа']      Москва  \n",
       "139                     NaN   Сыктывкар  \n",
       "140                     NaN   Сыктывкар  \n",
       "\n",
       "[141 rows x 4 columns]"
      ]
     },
     "execution_count": 28,
     "metadata": {},
     "output_type": "execute_result"
    }
   ],
   "source": [
    "for_work"
   ]
  },
  {
   "cell_type": "code",
   "execution_count": 31,
   "metadata": {},
   "outputs": [],
   "source": [
    "will_use = pd.get_dummies(for_work)"
   ]
  },
  {
   "cell_type": "code",
   "execution_count": 32,
   "metadata": {},
   "outputs": [],
   "source": [
    "from sklearn.model_selection import train_test_split"
   ]
  },
  {
   "cell_type": "code",
   "execution_count": 40,
   "metadata": {},
   "outputs": [],
   "source": [
    "test = will_use[will_use.money < 1]\n",
    "X_train, X_test, y_train, y_test = train_test_split(will_use[will_use.money > 0].drop(['money'], axis=1), will_use[will_use.money > 0].money, test_size=0.3, random_state=17)"
   ]
  },
  {
   "attachments": {},
   "cell_type": "markdown",
   "metadata": {},
   "source": [
    "## Make a model"
   ]
  },
  {
   "cell_type": "code",
   "execution_count": 128,
   "metadata": {},
   "outputs": [],
   "source": [
    "from sklearn.ensemble import RandomForestRegressor\n",
    "from sklearn.tree import DecisionTreeRegressor\n",
    "from sklearn.metrics import mean_squared_error\n",
    "from sklearn.linear_model import SGDRegressor"
   ]
  },
  {
   "cell_type": "code",
   "execution_count": 132,
   "metadata": {},
   "outputs": [
    {
     "data": {
      "text/plain": [
       "1498.2992861087125"
      ]
     },
     "execution_count": 132,
     "metadata": {},
     "output_type": "execute_result"
    }
   ],
   "source": [
    "model = RandomForestRegressor(n_estimators=1000)\n",
    "model.fit(X_train, y_train)\n",
    "mean_squared_error(y_test, model.predict(X_test))"
   ]
  },
  {
   "cell_type": "code",
   "execution_count": 139,
   "metadata": {},
   "outputs": [],
   "source": [
    "feature_imp = pd.Series(model.feature_importances_,index=X_train.columns).sort_values(ascending=False)\n",
    "will_use = will_use.drop(feature_imp[feature_imp == 0].index, axis=1)"
   ]
  },
  {
   "cell_type": "code",
   "execution_count": 140,
   "metadata": {},
   "outputs": [],
   "source": [
    "X_train, X_test, y_train, y_test = train_test_split(will_use[will_use.money > 0].drop(['money'], axis=1), will_use[will_use.money > 0].money, test_size=0.3, random_state=17)"
   ]
  },
  {
   "cell_type": "code",
   "execution_count": 141,
   "metadata": {},
   "outputs": [
    {
     "data": {
      "text/plain": [
       "1509.0375681830847"
      ]
     },
     "execution_count": 141,
     "metadata": {},
     "output_type": "execute_result"
    }
   ],
   "source": [
    "model = RandomForestRegressor(n_estimators=1000)\n",
    "model.fit(X_train, y_train)\n",
    "mean_squared_error(y_test, model.predict(X_test))"
   ]
  },
  {
   "cell_type": "code",
   "execution_count": 142,
   "metadata": {},
   "outputs": [
    {
     "data": {
      "text/html": [
       "<div>\n",
       "<style scoped>\n",
       "    .dataframe tbody tr th:only-of-type {\n",
       "        vertical-align: middle;\n",
       "    }\n",
       "\n",
       "    .dataframe tbody tr th {\n",
       "        vertical-align: top;\n",
       "    }\n",
       "\n",
       "    .dataframe thead th {\n",
       "        text-align: right;\n",
       "    }\n",
       "</style>\n",
       "<table border=\"1\" class=\"dataframe\">\n",
       "  <thead>\n",
       "    <tr style=\"text-align: right;\">\n",
       "      <th></th>\n",
       "      <th>money</th>\n",
       "      <th>knoladge</th>\n",
       "      <th>addition</th>\n",
       "      <th>city</th>\n",
       "    </tr>\n",
       "  </thead>\n",
       "  <tbody>\n",
       "    <tr>\n",
       "      <th>0</th>\n",
       "      <td>200.0</td>\n",
       "      <td>AIOHTTP STARLETTE FASTAPI FASTAPI PYTHON LINUX...</td>\n",
       "      <td>['Удаленная работа']</td>\n",
       "      <td>Москва</td>\n",
       "    </tr>\n",
       "    <tr>\n",
       "      <th>1</th>\n",
       "      <td>NaN</td>\n",
       "      <td>PYTHON DJANGO</td>\n",
       "      <td>NaN</td>\n",
       "      <td>Москва</td>\n",
       "    </tr>\n",
       "    <tr>\n",
       "      <th>2</th>\n",
       "      <td>180.0</td>\n",
       "      <td>PYTHON DRF FASTAPI CELERY</td>\n",
       "      <td>['Удаленная работа']</td>\n",
       "      <td>Москва</td>\n",
       "    </tr>\n",
       "    <tr>\n",
       "      <th>3</th>\n",
       "      <td>NaN</td>\n",
       "      <td>LINUX CENTOS OPENSUSE</td>\n",
       "      <td>['Доступно студентам']</td>\n",
       "      <td>Москва</td>\n",
       "    </tr>\n",
       "    <tr>\n",
       "      <th>4</th>\n",
       "      <td>18.0</td>\n",
       "      <td>NaN</td>\n",
       "      <td>['Доступно студентам']</td>\n",
       "      <td>Домодедово</td>\n",
       "    </tr>\n",
       "  </tbody>\n",
       "</table>\n",
       "</div>"
      ],
      "text/plain": [
       "   money                                           knoladge  \\\n",
       "0  200.0  AIOHTTP STARLETTE FASTAPI FASTAPI PYTHON LINUX...   \n",
       "1    NaN                                      PYTHON DJANGO   \n",
       "2  180.0                          PYTHON DRF FASTAPI CELERY   \n",
       "3    NaN                              LINUX CENTOS OPENSUSE   \n",
       "4   18.0                                                NaN   \n",
       "\n",
       "                 addition        city  \n",
       "0    ['Удаленная работа']      Москва  \n",
       "1                     NaN      Москва  \n",
       "2    ['Удаленная работа']      Москва  \n",
       "3  ['Доступно студентам']      Москва  \n",
       "4  ['Доступно студентам']  Домодедово  "
      ]
     },
     "execution_count": 142,
     "metadata": {},
     "output_type": "execute_result"
    }
   ],
   "source": [
    "for_work.head(5)"
   ]
  },
  {
   "cell_type": "code",
   "execution_count": 143,
   "metadata": {},
   "outputs": [
    {
     "data": {
      "text/plain": [
       "array([181.958 , 110.791 , 170.508 , 122.902 ,  27.8065])"
      ]
     },
     "execution_count": 143,
     "metadata": {},
     "output_type": "execute_result"
    }
   ],
   "source": [
    "model.predict(will_use.drop('money', axis=1).head(5))"
   ]
  },
  {
   "cell_type": "code",
   "execution_count": 144,
   "metadata": {},
   "outputs": [
    {
     "data": {
      "text/plain": [
       "count     84.000000\n",
       "mean      88.750000\n",
       "std       60.097887\n",
       "min       15.000000\n",
       "25%       40.000000\n",
       "50%       75.000000\n",
       "75%      120.000000\n",
       "max      280.000000\n",
       "Name: money, dtype: float64"
      ]
     },
     "execution_count": 144,
     "metadata": {},
     "output_type": "execute_result"
    }
   ],
   "source": [
    "will_use.money.describe()"
   ]
  },
  {
   "cell_type": "code",
   "execution_count": 145,
   "metadata": {},
   "outputs": [
    {
     "data": {
      "image/png": "[encoded data removed]",
      "text/plain": [
       "<Figure size 432x288 with 1 Axes>"
      ]
     },
     "metadata": {
      "needs_background": "light"
     },
     "output_type": "display_data"
    }
   ],
   "source": [
    "will_use.money.hist();"
   ]
  },
  {
   "attachments": {},
   "cell_type": "markdown",
   "metadata": {},
   "source": [
    "# Save a model"
   ]
  },
  {
   "cell_type": "code",
   "execution_count": 146,
   "metadata": {},
   "outputs": [],
   "source": [
    "import joblib"
   ]
  },
  {
   "cell_type": "code",
   "execution_count": 147,
   "metadata": {},
   "outputs": [
    {
     "data": {
      "text/plain": [
       "['model.sav']"
      ]
     },
     "execution_count": 147,
     "metadata": {},
     "output_type": "execute_result"
    }
   ],
   "source": [
    "filename = 'model.sav'\n",
    "joblib.dump(model, filename)"
   ]
  },
  {
   "cell_type": "code",
   "execution_count": 148,
   "metadata": {},
   "outputs": [
    {
     "name": "stdout",
     "output_type": "stream",
     "text": [
      "0.3836807735718242\n"
     ]
    }
   ],
   "source": [
    "loaded_model = joblib.load(filename)\n",
    "result = loaded_model.score(X_test, y_test)\n",
    "print(result)"
   ]
  }
 ],
 "metadata": {
  "kernelspec": {
   "display_name": "base",
   "language": "python",
   "name": "python3"
  },
  "language_info": {
   "codemirror_mode": {
    "name": "ipython",
    "version": 3
   },
   "file_extension": ".py",
   "mimetype": "text/x-python",
   "name": "python",
   "nbconvert_exporter": "python",
   "pygments_lexer": "ipython3",
   "version": "3.9.12 (main, Apr  4 2022, 05:22:27) [MSC v.1916 64 bit (AMD64)]"
  },
  "orig_nbformat": 4,
  "vscode": {
   "interpreter": {
    "hash": "a204cece8e64d9728c82f52fa159bb0f7ea2824b05eb671365f0b474c95eeb98"
   }
  }
 },
 "nbformat": 4,
 "nbformat_minor": 2
}
