{
 "cells": [
  {
   "attachments": {},
   "cell_type": "markdown",
   "metadata": {},
   "source": [
    "# Prep"
   ]
  },
  {
   "cell_type": "code",
   "execution_count": 33,
   "metadata": {},
   "outputs": [],
   "source": [
    "import pandas as pd\n",
    "import numpy as np"
   ]
  },
  {
   "cell_type": "code",
   "execution_count": 34,
   "metadata": {},
   "outputs": [],
   "source": [
    "df = pd.read_csv('./jobs.csv')"
   ]
  },
  {
   "cell_type": "code",
   "execution_count": 35,
   "metadata": {},
   "outputs": [
    {
     "data": {
      "text/html": [
       "<div>\n",
       "<style scoped>\n",
       "    .dataframe tbody tr th:only-of-type {\n",
       "        vertical-align: middle;\n",
       "    }\n",
       "\n",
       "    .dataframe tbody tr th {\n",
       "        vertical-align: top;\n",
       "    }\n",
       "\n",
       "    .dataframe thead th {\n",
       "        text-align: right;\n",
       "    }\n",
       "</style>\n",
       "<table border=\"1\" class=\"dataframe\">\n",
       "  <thead>\n",
       "    <tr style=\"text-align: right;\">\n",
       "      <th></th>\n",
       "      <th>title</th>\n",
       "      <th>money</th>\n",
       "      <th>knoladge</th>\n",
       "      <th>company</th>\n",
       "      <th>addition</th>\n",
       "      <th>city</th>\n",
       "      <th>link</th>\n",
       "    </tr>\n",
       "  </thead>\n",
       "  <tbody>\n",
       "    <tr>\n",
       "      <th>0</th>\n",
       "      <td>Python разработчик (Middle)</td>\n",
       "      <td>200.0</td>\n",
       "      <td>AIOHTTP STARLETTE FASTAPI FASTAPI PYTHON LINUX...</td>\n",
       "      <td>Технопарк «Сколково»</td>\n",
       "      <td>['Удаленная работа']</td>\n",
       "      <td>Москва</td>\n",
       "      <td>https://russia.superjob.ru/vacancy/search/?key...</td>\n",
       "    </tr>\n",
       "    <tr>\n",
       "      <th>1</th>\n",
       "      <td>Python-разработчик с функционалом data-аналитика</td>\n",
       "      <td>NaN</td>\n",
       "      <td>PYTHON DJANGO</td>\n",
       "      <td>Friendwork</td>\n",
       "      <td>NaN</td>\n",
       "      <td>Москва</td>\n",
       "      <td>https://russia.superjob.ru/vacancy/search/?key...</td>\n",
       "    </tr>\n",
       "    <tr>\n",
       "      <th>2</th>\n",
       "      <td>Разработчик Python</td>\n",
       "      <td>180.0</td>\n",
       "      <td>PYTHON DRF FASTAPI CELERY</td>\n",
       "      <td>Ботобот</td>\n",
       "      <td>['Удаленная работа']</td>\n",
       "      <td>Москва</td>\n",
       "      <td>https://russia.superjob.ru/vacancy/search/?key...</td>\n",
       "    </tr>\n",
       "    <tr>\n",
       "      <th>3</th>\n",
       "      <td>Программист Python</td>\n",
       "      <td>NaN</td>\n",
       "      <td>LINUX CENTOS OPENSUSE</td>\n",
       "      <td>ФГБУ \"Научно-исследовательский центр космическ...</td>\n",
       "      <td>['Доступно студентам']</td>\n",
       "      <td>Москва</td>\n",
       "      <td>https://russia.superjob.ru/vacancy/search/?key...</td>\n",
       "    </tr>\n",
       "    <tr>\n",
       "      <th>4</th>\n",
       "      <td>Педагог дополнительного образования (программи...</td>\n",
       "      <td>18.0</td>\n",
       "      <td>NaN</td>\n",
       "      <td>ТЕХНОШКОЛА</td>\n",
       "      <td>['Доступно студентам']</td>\n",
       "      <td>Домодедово</td>\n",
       "      <td>https://russia.superjob.ru/vacancy/search/?key...</td>\n",
       "    </tr>\n",
       "  </tbody>\n",
       "</table>\n",
       "</div>"
      ],
      "text/plain": [
       "                                               title  money  \\\n",
       "0                        Python разработчик (Middle)  200.0   \n",
       "1   Python-разработчик с функционалом data-аналитика    NaN   \n",
       "2                                 Разработчик Python  180.0   \n",
       "3                                 Программист Python    NaN   \n",
       "4  Педагог дополнительного образования (программи...   18.0   \n",
       "\n",
       "                                            knoladge  \\\n",
       "0  AIOHTTP STARLETTE FASTAPI FASTAPI PYTHON LINUX...   \n",
       "1                                      PYTHON DJANGO   \n",
       "2                          PYTHON DRF FASTAPI CELERY   \n",
       "3                              LINUX CENTOS OPENSUSE   \n",
       "4                                                NaN   \n",
       "\n",
       "                                             company                addition  \\\n",
       "0                               Технопарк «Сколково»    ['Удаленная работа']   \n",
       "1                                         Friendwork                     NaN   \n",
       "2                                            Ботобот    ['Удаленная работа']   \n",
       "3  ФГБУ \"Научно-исследовательский центр космическ...  ['Доступно студентам']   \n",
       "4                                         ТЕХНОШКОЛА  ['Доступно студентам']   \n",
       "\n",
       "         city                                               link  \n",
       "0      Москва  https://russia.superjob.ru/vacancy/search/?key...  \n",
       "1      Москва  https://russia.superjob.ru/vacancy/search/?key...  \n",
       "2      Москва  https://russia.superjob.ru/vacancy/search/?key...  \n",
       "3      Москва  https://russia.superjob.ru/vacancy/search/?key...  \n",
       "4  Домодедово  https://russia.superjob.ru/vacancy/search/?key...  "
      ]
     },
     "execution_count": 35,
     "metadata": {},
     "output_type": "execute_result"
    }
   ],
   "source": [
    "df.head()"
   ]
  },
  {
   "cell_type": "code",
   "execution_count": 36,
   "metadata": {},
   "outputs": [],
   "source": [
    "df = df.drop(['title', 'company', 'link'], axis=1)"
   ]
  },
  {
   "cell_type": "code",
   "execution_count": 37,
   "metadata": {},
   "outputs": [],
   "source": [
    "some = []\n",
    "for i, j in enumerate(df.knoladge):\n",
    "    some.append({})\n",
    "    if type(j) == float:\n",
    "        continue\n",
    "    for k in j.split(' '):\n",
    "        some[i][k] = 1\n",
    "\n"
   ]
  },
  {
   "cell_type": "code",
   "execution_count": 38,
   "metadata": {},
   "outputs": [],
   "source": [
    "some = pd.DataFrame(some).fillna(0)"
   ]
  },
  {
   "cell_type": "code",
   "execution_count": 39,
   "metadata": {},
   "outputs": [
    {
     "data": {
      "text/html": [
       "<div>\n",
       "<style scoped>\n",
       "    .dataframe tbody tr th:only-of-type {\n",
       "        vertical-align: middle;\n",
       "    }\n",
       "\n",
       "    .dataframe tbody tr th {\n",
       "        vertical-align: top;\n",
       "    }\n",
       "\n",
       "    .dataframe thead th {\n",
       "        text-align: right;\n",
       "    }\n",
       "</style>\n",
       "<table border=\"1\" class=\"dataframe\">\n",
       "  <thead>\n",
       "    <tr style=\"text-align: right;\">\n",
       "      <th></th>\n",
       "      <th>money</th>\n",
       "      <th>knoladge</th>\n",
       "      <th>addition</th>\n",
       "      <th>city</th>\n",
       "    </tr>\n",
       "  </thead>\n",
       "  <tbody>\n",
       "    <tr>\n",
       "      <th>0</th>\n",
       "      <td>200.0</td>\n",
       "      <td>AIOHTTP STARLETTE FASTAPI FASTAPI PYTHON LINUX...</td>\n",
       "      <td>['Удаленная работа']</td>\n",
       "      <td>Москва</td>\n",
       "    </tr>\n",
       "    <tr>\n",
       "      <th>1</th>\n",
       "      <td>NaN</td>\n",
       "      <td>PYTHON DJANGO</td>\n",
       "      <td>NaN</td>\n",
       "      <td>Москва</td>\n",
       "    </tr>\n",
       "    <tr>\n",
       "      <th>2</th>\n",
       "      <td>180.0</td>\n",
       "      <td>PYTHON DRF FASTAPI CELERY</td>\n",
       "      <td>['Удаленная работа']</td>\n",
       "      <td>Москва</td>\n",
       "    </tr>\n",
       "    <tr>\n",
       "      <th>3</th>\n",
       "      <td>NaN</td>\n",
       "      <td>LINUX CENTOS OPENSUSE</td>\n",
       "      <td>['Доступно студентам']</td>\n",
       "      <td>Москва</td>\n",
       "    </tr>\n",
       "    <tr>\n",
       "      <th>4</th>\n",
       "      <td>18.0</td>\n",
       "      <td>NaN</td>\n",
       "      <td>['Доступно студентам']</td>\n",
       "      <td>Домодедово</td>\n",
       "    </tr>\n",
       "    <tr>\n",
       "      <th>...</th>\n",
       "      <td>...</td>\n",
       "      <td>...</td>\n",
       "      <td>...</td>\n",
       "      <td>...</td>\n",
       "    </tr>\n",
       "    <tr>\n",
       "      <th>136</th>\n",
       "      <td>NaN</td>\n",
       "      <td>NET HTML JAVASCRIPT ASP NET</td>\n",
       "      <td>['Удаленная работа']</td>\n",
       "      <td>Москва</td>\n",
       "    </tr>\n",
       "    <tr>\n",
       "      <th>137</th>\n",
       "      <td>NaN</td>\n",
       "      <td>GEMS DEVELOPMENT NPM YARN NUGET JAVASCRIPT ANG...</td>\n",
       "      <td>NaN</td>\n",
       "      <td>Омск</td>\n",
       "    </tr>\n",
       "    <tr>\n",
       "      <th>138</th>\n",
       "      <td>NaN</td>\n",
       "      <td>ANGULAR JS TYPESCRIPT POSTGRESQL SEQUELIZE EXP...</td>\n",
       "      <td>['Удаленная работа']</td>\n",
       "      <td>Москва</td>\n",
       "    </tr>\n",
       "    <tr>\n",
       "      <th>139</th>\n",
       "      <td>40.0</td>\n",
       "      <td>WINDOWS SERVER CENTOS POSTRESQL NODE JS NGINX ...</td>\n",
       "      <td>NaN</td>\n",
       "      <td>Сыктывкар</td>\n",
       "    </tr>\n",
       "    <tr>\n",
       "      <th>140</th>\n",
       "      <td>55.0</td>\n",
       "      <td>WINDOWS SERVER CENTOS POSTRESQL NODE JS NGINX ...</td>\n",
       "      <td>NaN</td>\n",
       "      <td>Сыктывкар</td>\n",
       "    </tr>\n",
       "  </tbody>\n",
       "</table>\n",
       "<p>141 rows × 4 columns</p>\n",
       "</div>"
      ],
      "text/plain": [
       "     money                                           knoladge  \\\n",
       "0    200.0  AIOHTTP STARLETTE FASTAPI FASTAPI PYTHON LINUX...   \n",
       "1      NaN                                      PYTHON DJANGO   \n",
       "2    180.0                          PYTHON DRF FASTAPI CELERY   \n",
       "3      NaN                              LINUX CENTOS OPENSUSE   \n",
       "4     18.0                                                NaN   \n",
       "..     ...                                                ...   \n",
       "136    NaN                        NET HTML JAVASCRIPT ASP NET   \n",
       "137    NaN  GEMS DEVELOPMENT NPM YARN NUGET JAVASCRIPT ANG...   \n",
       "138    NaN  ANGULAR JS TYPESCRIPT POSTGRESQL SEQUELIZE EXP...   \n",
       "139   40.0  WINDOWS SERVER CENTOS POSTRESQL NODE JS NGINX ...   \n",
       "140   55.0  WINDOWS SERVER CENTOS POSTRESQL NODE JS NGINX ...   \n",
       "\n",
       "                   addition        city  \n",
       "0      ['Удаленная работа']      Москва  \n",
       "1                       NaN      Москва  \n",
       "2      ['Удаленная работа']      Москва  \n",
       "3    ['Доступно студентам']      Москва  \n",
       "4    ['Доступно студентам']  Домодедово  \n",
       "..                      ...         ...  \n",
       "136    ['Удаленная работа']      Москва  \n",
       "137                     NaN        Омск  \n",
       "138    ['Удаленная работа']      Москва  \n",
       "139                     NaN   Сыктывкар  \n",
       "140                     NaN   Сыктывкар  \n",
       "\n",
       "[141 rows x 4 columns]"
      ]
     },
     "execution_count": 39,
     "metadata": {},
     "output_type": "execute_result"
    }
   ],
   "source": [
    "df"
   ]
  },
  {
   "cell_type": "code",
   "execution_count": 54,
   "metadata": {},
   "outputs": [],
   "source": [
    "df = pd.concat([df, some], axis=1).drop('knoladge', axis=1)"
   ]
  },
  {
   "cell_type": "code",
   "execution_count": 60,
   "metadata": {},
   "outputs": [
    {
     "data": {
      "text/plain": [
       "money       57\n",
       "addition    77\n",
       "dtype: int64"
      ]
     },
     "execution_count": 60,
     "metadata": {},
     "output_type": "execute_result"
    }
   ],
   "source": [
    "df.isnull().sum()[df.isnull().sum() > 1]"
   ]
  },
  {
   "cell_type": "code",
   "execution_count": 63,
   "metadata": {},
   "outputs": [
    {
     "data": {
      "text/plain": [
       "((84, 250), (141, 250))"
      ]
     },
     "execution_count": 63,
     "metadata": {},
     "output_type": "execute_result"
    }
   ],
   "source": [
    "df[df.money > 0].shape, df.shape"
   ]
  },
  {
   "cell_type": "code",
   "execution_count": 64,
   "metadata": {},
   "outputs": [],
   "source": [
    "df = df[df.money > 0]"
   ]
  },
  {
   "attachments": {},
   "cell_type": "markdown",
   "metadata": {},
   "source": [
    "# Almost work"
   ]
  },
  {
   "cell_type": "code",
   "execution_count": 65,
   "metadata": {},
   "outputs": [
    {
     "data": {
      "text/html": [
       "<div>\n",
       "<style scoped>\n",
       "    .dataframe tbody tr th:only-of-type {\n",
       "        vertical-align: middle;\n",
       "    }\n",
       "\n",
       "    .dataframe tbody tr th {\n",
       "        vertical-align: top;\n",
       "    }\n",
       "\n",
       "    .dataframe thead th {\n",
       "        text-align: right;\n",
       "    }\n",
       "</style>\n",
       "<table border=\"1\" class=\"dataframe\">\n",
       "  <thead>\n",
       "    <tr style=\"text-align: right;\">\n",
       "      <th></th>\n",
       "      <th>money</th>\n",
       "      <th>AIOHTTP</th>\n",
       "      <th>STARLETTE</th>\n",
       "      <th>FASTAPI</th>\n",
       "      <th>PYTHON</th>\n",
       "      <th>LINUX</th>\n",
       "      <th>POSTGRESQL</th>\n",
       "      <th>ASYNCPGSQLALCHEMY</th>\n",
       "      <th>DJANGO</th>\n",
       "      <th>DRF</th>\n",
       "      <th>...</th>\n",
       "      <th>city_Ногинск</th>\n",
       "      <th>city_Пенза</th>\n",
       "      <th>city_Пермь</th>\n",
       "      <th>city_Подольск</th>\n",
       "      <th>city_Ростов-на-Дону</th>\n",
       "      <th>city_Санкт-Петербург</th>\n",
       "      <th>city_Сыктывкар</th>\n",
       "      <th>city_Тольятти</th>\n",
       "      <th>city_Хабаровск</th>\n",
       "      <th>city_Ярославль</th>\n",
       "    </tr>\n",
       "  </thead>\n",
       "  <tbody>\n",
       "    <tr>\n",
       "      <th>0</th>\n",
       "      <td>200.0</td>\n",
       "      <td>1.0</td>\n",
       "      <td>1.0</td>\n",
       "      <td>1.0</td>\n",
       "      <td>1.0</td>\n",
       "      <td>1.0</td>\n",
       "      <td>1.0</td>\n",
       "      <td>1.0</td>\n",
       "      <td>0.0</td>\n",
       "      <td>0.0</td>\n",
       "      <td>...</td>\n",
       "      <td>0</td>\n",
       "      <td>0</td>\n",
       "      <td>0</td>\n",
       "      <td>0</td>\n",
       "      <td>0</td>\n",
       "      <td>0</td>\n",
       "      <td>0</td>\n",
       "      <td>0</td>\n",
       "      <td>0</td>\n",
       "      <td>0</td>\n",
       "    </tr>\n",
       "    <tr>\n",
       "      <th>2</th>\n",
       "      <td>180.0</td>\n",
       "      <td>0.0</td>\n",
       "      <td>0.0</td>\n",
       "      <td>1.0</td>\n",
       "      <td>1.0</td>\n",
       "      <td>0.0</td>\n",
       "      <td>0.0</td>\n",
       "      <td>0.0</td>\n",
       "      <td>0.0</td>\n",
       "      <td>1.0</td>\n",
       "      <td>...</td>\n",
       "      <td>0</td>\n",
       "      <td>0</td>\n",
       "      <td>0</td>\n",
       "      <td>0</td>\n",
       "      <td>0</td>\n",
       "      <td>0</td>\n",
       "      <td>0</td>\n",
       "      <td>0</td>\n",
       "      <td>0</td>\n",
       "      <td>0</td>\n",
       "    </tr>\n",
       "    <tr>\n",
       "      <th>4</th>\n",
       "      <td>18.0</td>\n",
       "      <td>0.0</td>\n",
       "      <td>0.0</td>\n",
       "      <td>0.0</td>\n",
       "      <td>0.0</td>\n",
       "      <td>0.0</td>\n",
       "      <td>0.0</td>\n",
       "      <td>0.0</td>\n",
       "      <td>0.0</td>\n",
       "      <td>0.0</td>\n",
       "      <td>...</td>\n",
       "      <td>0</td>\n",
       "      <td>0</td>\n",
       "      <td>0</td>\n",
       "      <td>0</td>\n",
       "      <td>0</td>\n",
       "      <td>0</td>\n",
       "      <td>0</td>\n",
       "      <td>0</td>\n",
       "      <td>0</td>\n",
       "      <td>0</td>\n",
       "    </tr>\n",
       "    <tr>\n",
       "      <th>5</th>\n",
       "      <td>25.0</td>\n",
       "      <td>0.0</td>\n",
       "      <td>0.0</td>\n",
       "      <td>0.0</td>\n",
       "      <td>0.0</td>\n",
       "      <td>0.0</td>\n",
       "      <td>0.0</td>\n",
       "      <td>0.0</td>\n",
       "      <td>0.0</td>\n",
       "      <td>0.0</td>\n",
       "      <td>...</td>\n",
       "      <td>0</td>\n",
       "      <td>0</td>\n",
       "      <td>0</td>\n",
       "      <td>0</td>\n",
       "      <td>0</td>\n",
       "      <td>0</td>\n",
       "      <td>0</td>\n",
       "      <td>0</td>\n",
       "      <td>0</td>\n",
       "      <td>0</td>\n",
       "    </tr>\n",
       "    <tr>\n",
       "      <th>9</th>\n",
       "      <td>15.0</td>\n",
       "      <td>0.0</td>\n",
       "      <td>0.0</td>\n",
       "      <td>0.0</td>\n",
       "      <td>1.0</td>\n",
       "      <td>0.0</td>\n",
       "      <td>0.0</td>\n",
       "      <td>0.0</td>\n",
       "      <td>0.0</td>\n",
       "      <td>0.0</td>\n",
       "      <td>...</td>\n",
       "      <td>0</td>\n",
       "      <td>0</td>\n",
       "      <td>0</td>\n",
       "      <td>0</td>\n",
       "      <td>0</td>\n",
       "      <td>0</td>\n",
       "      <td>0</td>\n",
       "      <td>1</td>\n",
       "      <td>0</td>\n",
       "      <td>0</td>\n",
       "    </tr>\n",
       "  </tbody>\n",
       "</table>\n",
       "<p>5 rows × 280 columns</p>\n",
       "</div>"
      ],
      "text/plain": [
       "   money  AIOHTTP  STARLETTE  FASTAPI  PYTHON  LINUX  POSTGRESQL  \\\n",
       "0  200.0      1.0        1.0      1.0     1.0    1.0         1.0   \n",
       "2  180.0      0.0        0.0      1.0     1.0    0.0         0.0   \n",
       "4   18.0      0.0        0.0      0.0     0.0    0.0         0.0   \n",
       "5   25.0      0.0        0.0      0.0     0.0    0.0         0.0   \n",
       "9   15.0      0.0        0.0      0.0     1.0    0.0         0.0   \n",
       "\n",
       "   ASYNCPGSQLALCHEMY  DJANGO  DRF  ...  city_Ногинск  city_Пенза  city_Пермь  \\\n",
       "0                1.0     0.0  0.0  ...             0           0           0   \n",
       "2                0.0     0.0  1.0  ...             0           0           0   \n",
       "4                0.0     0.0  0.0  ...             0           0           0   \n",
       "5                0.0     0.0  0.0  ...             0           0           0   \n",
       "9                0.0     0.0  0.0  ...             0           0           0   \n",
       "\n",
       "   city_Подольск  city_Ростов-на-Дону  city_Санкт-Петербург  city_Сыктывкар  \\\n",
       "0              0                    0                     0               0   \n",
       "2              0                    0                     0               0   \n",
       "4              0                    0                     0               0   \n",
       "5              0                    0                     0               0   \n",
       "9              0                    0                     0               0   \n",
       "\n",
       "   city_Тольятти  city_Хабаровск  city_Ярославль  \n",
       "0              0               0               0  \n",
       "2              0               0               0  \n",
       "4              0               0               0  \n",
       "5              0               0               0  \n",
       "9              1               0               0  \n",
       "\n",
       "[5 rows x 280 columns]"
      ]
     },
     "execution_count": 65,
     "metadata": {},
     "output_type": "execute_result"
    }
   ],
   "source": [
    "df = pd.get_dummies(df)\n",
    "df.head()"
   ]
  },
  {
   "cell_type": "code",
   "execution_count": 66,
   "metadata": {},
   "outputs": [],
   "source": [
    "from sklearn.model_selection import train_test_split\n",
    "\n",
    "X = df.drop('money', axis=1)\n",
    "y = df['money']"
   ]
  },
  {
   "cell_type": "code",
   "execution_count": 68,
   "metadata": {},
   "outputs": [],
   "source": [
    "X_train, X_test, y_train, y_test = train_test_split(X, y, test_size=.1)"
   ]
  },
  {
   "cell_type": "code",
   "execution_count": 94,
   "metadata": {},
   "outputs": [
    {
     "name": "stdout",
     "output_type": "stream",
     "text": [
      "score: -902725840273827.4\n",
      "mae:  1727106233.013677\n",
      "std: 60\n"
     ]
    }
   ],
   "source": [
    "from sklearn.linear_model import LinearRegression\n",
    "from sklearn.metrics import mean_squared_error\n",
    "\n",
    "model = LinearRegression()\n",
    "\n",
    "def fitt(model, out=True):\n",
    "    model.fit(X_train, y_train)\n",
    "\n",
    "    score = model.score(X_test, y_test)\n",
    "    mae = np.sqrt(mean_squared_error(y_test, model.predict(X_test)))\n",
    "\n",
    "    if out:\n",
    "        print('score:', score)\n",
    "        print('mae: ', mae)\n",
    "        print('std: 60')\n",
    "\n",
    "    return score, mae\n",
    "\n",
    "fitt(model);"
   ]
  },
  {
   "cell_type": "code",
   "execution_count": 95,
   "metadata": {},
   "outputs": [
    {
     "name": "stdout",
     "output_type": "stream",
     "text": [
      "score: 0.018120679992527533\n",
      "mae:  56.96002496878354\n",
      "std: 60\n"
     ]
    }
   ],
   "source": [
    "from sklearn.tree import DecisionTreeRegressor\n",
    "\n",
    "model = DecisionTreeRegressor()\n",
    "\n",
    "fitt(model);"
   ]
  },
  {
   "cell_type": "code",
   "execution_count": 101,
   "metadata": {},
   "outputs": [
    {
     "name": "stdout",
     "output_type": "stream",
     "text": [
      "score: 0.47392284027648046\n",
      "mae:  41.69325844785941\n",
      "std: 60\n"
     ]
    }
   ],
   "source": [
    "from sklearn.ensemble import RandomForestRegressor\n",
    "\n",
    "model = RandomForestRegressor(random_state=15)\n",
    "\n",
    "fitt(model);"
   ]
  },
  {
   "cell_type": "code",
   "execution_count": 112,
   "metadata": {},
   "outputs": [],
   "source": [
    "r = range(100, 1001, 100)\n",
    "y = []\n",
    "for i in r:\n",
    "    model = RandomForestRegressor(random_state=15, n_estimators=i)\n",
    "    _, mse = fitt(model, False)\n",
    "\n",
    "    y.append(mse)"
   ]
  },
  {
   "cell_type": "code",
   "execution_count": 113,
   "metadata": {},
   "outputs": [
    {
     "data": {
      "image/png": "[encoded data removed]",
      "text/plain": [
       "<Figure size 432x288 with 1 Axes>"
      ]
     },
     "metadata": {
      "needs_background": "light"
     },
     "output_type": "display_data"
    }
   ],
   "source": [
    "import matplotlib.pyplot as plt\n",
    "\n",
    "plt.plot(r, y);"
   ]
  },
  {
   "attachments": {},
   "cell_type": "markdown",
   "metadata": {},
   "source": [
    "Here we see, that 500 is the best number of trees. But then i remember that we can use random search cv"
   ]
  },
  {
   "cell_type": "code",
   "execution_count": 110,
   "metadata": {},
   "outputs": [],
   "source": [
    "from sklearn.model_selection import RandomizedSearchCV"
   ]
  },
  {
   "cell_type": "code",
   "execution_count": 111,
   "metadata": {},
   "outputs": [],
   "source": [
    "# Number of trees in random forest\n",
    "n_estimators = [int(x) for x in np.linspace(start = 200, stop = 2000, num = 10)]\n",
    "# Number of features to consider at every split\n",
    "max_features = ['auto', 'sqrt']\n",
    "# Maximum number of levels in tree\n",
    "max_depth = [int(x) for x in np.linspace(10, 110, num = 11)]\n",
    "max_depth.append(None)\n",
    "# Minimum number of samples required to split a node\n",
    "min_samples_split = [2, 5, 10]\n",
    "# Minimum number of samples required at each leaf node\n",
    "min_samples_leaf = [1, 2, 4]\n",
    "# Method of selecting samples for training each tree\n",
    "bootstrap = [True, False]# Create the random grid\n",
    "random_grid = {'n_estimators': n_estimators,\n",
    "               'max_features': max_features,\n",
    "               'max_depth': max_depth,\n",
    "               'min_samples_split': min_samples_split,\n",
    "               'min_samples_leaf': min_samples_leaf,\n",
    "               'bootstrap': bootstrap}"
   ]
  },
  {
   "cell_type": "code",
   "execution_count": 114,
   "metadata": {},
   "outputs": [
    {
     "name": "stdout",
     "output_type": "stream",
     "text": [
      "Fitting 3 folds for each of 100 candidates, totalling 300 fits\n"
     ]
    },
    {
     "data": {
      "text/plain": [
       "RandomizedSearchCV(cv=3, estimator=RandomForestRegressor(), n_iter=100,\n",
       "                   n_jobs=-1,\n",
       "                   param_distributions={'bootstrap': [True, False],\n",
       "                                        'max_depth': [10, 20, 30, 40, 50, 60,\n",
       "                                                      70, 80, 90, 100, 110,\n",
       "                                                      None],\n",
       "                                        'max_features': ['auto', 'sqrt'],\n",
       "                                        'min_samples_leaf': [1, 2, 4],\n",
       "                                        'min_samples_split': [2, 5, 10],\n",
       "                                        'n_estimators': [200, 400, 600, 800,\n",
       "                                                         1000, 1200, 1400, 1600,\n",
       "                                                         1800, 2000]},\n",
       "                   random_state=42, verbose=2)"
      ]
     },
     "execution_count": 114,
     "metadata": {},
     "output_type": "execute_result"
    }
   ],
   "source": [
    "rf = RandomForestRegressor()\n",
    "\n",
    "rf_random = RandomizedSearchCV(estimator = rf, param_distributions = random_grid, n_iter = 100, cv = 3, verbose=2, random_state=42, n_jobs = -1)\n",
    "rf_random.fit(X_train, y_train)"
   ]
  },
  {
   "cell_type": "code",
   "execution_count": 115,
   "metadata": {},
   "outputs": [
    {
     "data": {
      "text/plain": [
       "{'n_estimators': 1400,\n",
       " 'min_samples_split': 2,\n",
       " 'min_samples_leaf': 2,\n",
       " 'max_features': 'auto',\n",
       " 'max_depth': 70,\n",
       " 'bootstrap': True}"
      ]
     },
     "execution_count": 115,
     "metadata": {},
     "output_type": "execute_result"
    }
   ],
   "source": [
    "rf_random.best_params_"
   ]
  },
  {
   "cell_type": "code",
   "execution_count": 116,
   "metadata": {},
   "outputs": [],
   "source": [
    "tree = rf_random.best_estimator_"
   ]
  },
  {
   "cell_type": "code",
   "execution_count": 118,
   "metadata": {},
   "outputs": [
    {
     "name": "stdout",
     "output_type": "stream",
     "text": [
      "score: 0.37324639013666916\n",
      "mae:  45.50818725415804\n",
      "std: 60\n"
     ]
    }
   ],
   "source": [
    "fitt(tree);"
   ]
  },
  {
   "cell_type": "code",
   "execution_count": 119,
   "metadata": {},
   "outputs": [
    {
     "data": {
      "text/plain": [
       "0.8885444221671553"
      ]
     },
     "execution_count": 119,
     "metadata": {},
     "output_type": "execute_result"
    }
   ],
   "source": [
    "model.score(X_train, y_train)"
   ]
  },
  {
   "cell_type": "code",
   "execution_count": 120,
   "metadata": {},
   "outputs": [
    {
     "data": {
      "text/plain": [
       "0.7683441558873472"
      ]
     },
     "execution_count": 120,
     "metadata": {},
     "output_type": "execute_result"
    }
   ],
   "source": [
    "tree.score(X_train, y_train)"
   ]
  },
  {
   "cell_type": "code",
   "execution_count": 124,
   "metadata": {},
   "outputs": [
    {
     "name": "stdout",
     "output_type": "stream",
     "text": [
      "score: 0.4856889508012673\n",
      "mae:  41.2243713602753\n",
      "std: 60\n"
     ]
    }
   ],
   "source": [
    "rf = RandomForestRegressor(random_state=15, n_estimators=500)\n",
    "fitt(rf);"
   ]
  },
  {
   "attachments": {},
   "cell_type": "markdown",
   "metadata": {},
   "source": [
    "# End"
   ]
  },
  {
   "attachments": {},
   "cell_type": "markdown",
   "metadata": {},
   "source": [
    "So look, overall my version is much better covinsionaly."
   ]
  },
  {
   "cell_type": "code",
   "execution_count": 125,
   "metadata": {},
   "outputs": [
    {
     "data": {
      "text/plain": [
       "['model.sav']"
      ]
     },
     "execution_count": 125,
     "metadata": {},
     "output_type": "execute_result"
    }
   ],
   "source": [
    "import joblib\n",
    "\n",
    "filename = 'model.sav'\n",
    "joblib.dump(model, filename)"
   ]
  },
  {
   "cell_type": "code",
   "execution_count": null,
   "metadata": {},
   "outputs": [],
   "source": []
  }
 ],
 "metadata": {
  "kernelspec": {
   "display_name": "base",
   "language": "python",
   "name": "python3"
  },
  "language_info": {
   "codemirror_mode": {
    "name": "ipython",
    "version": 3
   },
   "file_extension": ".py",
   "mimetype": "text/x-python",
   "name": "python",
   "nbconvert_exporter": "python",
   "pygments_lexer": "ipython3",
   "version": "3.9.12"
  },
  "orig_nbformat": 4,
  "vscode": {
   "interpreter": {
    "hash": "a204cece8e64d9728c82f52fa159bb0f7ea2824b05eb671365f0b474c95eeb98"
   }
  }
 },
 "nbformat": 4,
 "nbformat_minor": 2
}
